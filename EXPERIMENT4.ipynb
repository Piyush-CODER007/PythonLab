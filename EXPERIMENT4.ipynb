{
  "metadata": {
    "kernelspec": {
      "name": "python",
      "display_name": "Python (Pyodide)",
      "language": "python"
    },
    "language_info": {
      "codemirror_mode": {
        "name": "python",
        "version": 3
      },
      "file_extension": ".py",
      "mimetype": "text/x-python",
      "name": "python",
      "nbconvert_exporter": "python",
      "pygments_lexer": "ipython3",
      "version": "3.8"
    }
  },
  "nbformat_minor": 4,
  "nbformat": 4,
  "cells": [
    {
      "cell_type": "code",
      "source": "from contextlib import contextmanager\n\n@contextmanager\ndef genericFileFunction(filename, method):\n    file = open(filename, method)\n    yield file\n    file.close()",
      "metadata": {
        "trusted": true
      },
      "outputs": [],
      "execution_count": 1
    },
    {
      "cell_type": "code",
      "source": "  with genericFileFunction('file.txt', 'w') as f:\n        f.write(\"Hello from the function\\n\")",
      "metadata": {
        "trusted": true
      },
      "outputs": [],
      "execution_count": 2
    },
    {
      "cell_type": "code",
      "source": "  with genericFileFunction('file.txt', 'r') as f:\n        print(\"Initial File Content:\\n\", f.read())",
      "metadata": {
        "trusted": true
      },
      "outputs": [
        {
          "name": "stdout",
          "output_type": "stream",
          "text": "Initial File Content:\n Hello from the function\n\n"
        }
      ],
      "execution_count": 3
    },
    {
      "cell_type": "code",
      "source": "with genericFileFunction('file.txt', 'a') as f:\n        f.write(\"Appending new content\\n\")",
      "metadata": {
        "trusted": true
      },
      "outputs": [],
      "execution_count": 4
    },
    {
      "cell_type": "code",
      "source": " with genericFileFunction('file.txt', 'r') as f:\n        print(\"Updated File Content:\\n\", f.read())",
      "metadata": {
        "trusted": true
      },
      "outputs": [
        {
          "name": "stdout",
          "output_type": "stream",
          "text": "Updated File Content:\n Hello from the function\nAppending new content\n\n"
        }
      ],
      "execution_count": 5
    }
  ]
}